{
 "cells": [
  {
   "cell_type": "markdown",
   "metadata": {},
   "source": [
    "# Assignment 4"
   ]
  },
  {
   "cell_type": "markdown",
   "metadata": {},
   "source": [
    "1. Given two strings, s1 and s2, write a program to return a new string made of s1 and s2’s first, middle, and last characters all in capital letters."
   ]
  },
  {
   "cell_type": "code",
   "execution_count": 19,
   "metadata": {},
   "outputs": [
    {
     "name": "stdout",
     "output_type": "stream",
     "text": [
      "original strings are: amazon and sagemaker\n",
      "ASZMNR\n",
      "AZNSMR\n"
     ]
    }
   ],
   "source": [
    "s1 = 'amazon'\n",
    "s2 = 'sagemaker'\n",
    "print('original strings are:', s1, 'and', s2)\n",
    "\n",
    "# get first char\n",
    "s3 = s1[0] + s2[0]\n",
    "\n",
    "#get middle char\n",
    "l1 = len(s1)\n",
    "l2 = len(s2)\n",
    "m1 = int(l1 / 2)\n",
    "m2 = int(l2 / 2)\n",
    "# add it all together, last char is length-1\n",
    "s3 = s3 + s1[m1] + s2[m2] + s1[l1-1] + s2[l2-1]\n",
    "# this will print the first letters of each word together like: \"s1(A)s2(A), s1(B)s2(B), s1(C)s2(C)\"\n",
    "\n",
    "s3_final = s3.upper()\n",
    "print(s3_final)\n",
    "\n",
    "# method 2 of printing new string: \"s1(A)s1(B)s1(c), s2(A),s2(B),s2(C)\"\n",
    "s3_1 = s1[0] + s1[m1] + s1[l1-1] + s2[0] + s2[m2] + s2[l2-1]\n",
    "s3_1_final = s3_1.upper()\n",
    "\n",
    "print(s3_1_final)"
   ]
  },
  {
   "cell_type": "markdown",
   "metadata": {},
   "source": [
    "2. Calculate the sum and the averages of the numbers in the following string while ignoring all other characters:\n",
    "\n",
    "    ```aa4a649##aq#2```"
   ]
  },
  {
   "cell_type": "code",
   "execution_count": 42,
   "metadata": {},
   "outputs": [
    {
     "name": "stdout",
     "output_type": "stream",
     "text": [
      "The sum of the numbers are: 655\n",
      "the averages of the numbers are: 218.33333333333334\n"
     ]
    }
   ],
   "source": [
    "s = \"aa4a649##aq#2\"\n",
    "\n",
    "s = s.replace('#', '')\n",
    "s = s.replace('a', '')\n",
    "s = s.replace('q', '')\n",
    "\n",
    "x = int(s[0])\n",
    "y = int(s[1:4])\n",
    "z = int(s[4])\n",
    "total = x + y + z\n",
    "avg = total/3\n",
    "\n",
    "print('The sum of the numbers are:', + total)\n",
    "print('the averages of the numbers are:', + avg)"
   ]
  },
  {
   "cell_type": "markdown",
   "metadata": {},
   "source": [
    "3. Extract the last name Culberson from the following legislative action:\n",
    "\n",
    "    ```WORDS TAKEN DOWN - During the course of debate, exception was taken to certain words used and a demand was made to have words taken down. Mr. Culberson asked unanimous consent to withdraw the words. Without objection the words were withdrawn. The House resumed debate on S. 22 .```\n",
    "\n",
    "    **Hint:** use the method [split](https://www.w3schools.com/python/ref_string_split.asp)"
   ]
  },
  {
   "cell_type": "code",
   "execution_count": 12,
   "metadata": {},
   "outputs": [
    {
     "name": "stdout",
     "output_type": "stream",
     "text": [
      "Culberson\n"
     ]
    }
   ],
   "source": [
    "txt = \"WORDS TAKEN DOWN - During the course of debate, exception was taken to certain words used and a demand was made to have words taken down. Mr. Culberson asked unanimous consent to withdraw the words. Without objection the words were withdrawn. The House resumed debate on S. 22 .\"\n",
    "\n",
    "x = txt.split(\".\")\n",
    "\n",
    "y = x[2]\n",
    "\n",
    "ext = y[1:10]\n",
    "print(ext)\n",
    "\n"
   ]
  },
  {
   "cell_type": "markdown",
   "metadata": {},
   "source": [
    "4. Extract the two integers from the following sentence and transform them intro ```int``` type\n",
    "\n",
    "    ```Passed Senate with amendments by Yea-Nay Vote. 73 - 21. Record Vote Number: 3 . (text: CR S430-557 )```"
   ]
  },
  {
   "cell_type": "code",
   "execution_count": 17,
   "metadata": {},
   "outputs": [
    {
     "name": "stdout",
     "output_type": "stream",
     "text": [
      "['Passed Senate with amendments by Yea-Nay Vote', ' 73 - 21', ' Record Vote Number: 3 ', ' (text: CR S430-557 )']\n",
      "(73, 21)\n"
     ]
    }
   ],
   "source": [
    "txt = \"Passed Senate with amendments by Yea-Nay Vote. 73 - 21. Record Vote Number: 3 . (text: CR S430-557 )\"\n",
    "\n",
    "x = txt.split(\".\")\n",
    "print(x)\n",
    "\n",
    "y = x[1]\n",
    "\n",
    "trn = int(y[1:3]), int(y[6:8])\n",
    "print(trn)"
   ]
  }
 ],
 "metadata": {
  "kernelspec": {
   "display_name": "conda_amazonei_mxnet_p36",
   "language": "python",
   "name": "conda_amazonei_mxnet_p36"
  },
  "language_info": {
   "codemirror_mode": {
    "name": "ipython",
    "version": 3
   },
   "file_extension": ".py",
   "mimetype": "text/x-python",
   "name": "python",
   "nbconvert_exporter": "python",
   "pygments_lexer": "ipython3",
   "version": "3.6.13"
  },
  "vscode": {
   "interpreter": {
    "hash": "11838f79d2aaadbfa3a2adfaf35bacdebdb4e8d9b63957ddf298964812544a76"
   }
  }
 },
 "nbformat": 4,
 "nbformat_minor": 4
}
